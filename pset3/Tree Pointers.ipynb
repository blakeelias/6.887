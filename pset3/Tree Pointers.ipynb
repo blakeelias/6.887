{
 "cells": [
  {
   "cell_type": "code",
   "execution_count": 31,
   "metadata": {
    "collapsed": true
   },
   "outputs": [],
   "source": [
    "class Tree:\n",
    "    def __init__(self, v, l=None, r=None):\n",
    "        self.left = l\n",
    "        self.right = r\n",
    "        self.value = v\n",
    "    \n",
    "    def pprint(self, n):\n",
    "        print(' '*n + str(self.value))\n",
    "        if self.left is not None:\n",
    "            self.left.pprint(n + 2)\n",
    "        if self.right is not None:\n",
    "            self.right.pprint(n + 2)\n",
    "\n",
    "    def __print__(self):\n",
    "        self.pprint(0)"
   ]
  },
  {
   "cell_type": "code",
   "execution_count": 32,
   "metadata": {
    "collapsed": false
   },
   "outputs": [
    {
     "name": "stdout",
     "output_type": "stream",
     "text": [
      "1\n",
      "  2\n",
      "    3\n",
      "    4\n",
      "  5\n",
      "    6\n",
      "    7\n"
     ]
    }
   ],
   "source": [
    "t = Tree(1,\n",
    "     Tree(2,\n",
    "          Tree(3), Tree(4)), \n",
    "     Tree(5, \n",
    "          Tree(6), \n",
    "          Tree(7)))\n",
    "t.pprint(0)"
   ]
  },
  {
   "cell_type": "code",
   "execution_count": 40,
   "metadata": {
    "collapsed": false
   },
   "outputs": [
    {
     "data": {
      "text/plain": [
       "[(<__main__.Tree instance at 0x10e103b90>, None),\n",
       " (<__main__.Tree instance at 0x10e103a70>,\n",
       "  <__main__.Tree instance at 0x10e103b90>),\n",
       " (<__main__.Tree instance at 0x10e1035f0>,\n",
       "  <__main__.Tree instance at 0x10e103a70>),\n",
       " (<__main__.Tree instance at 0x10e103878>,\n",
       "  <__main__.Tree instance at 0x10e103a70>),\n",
       " (<__main__.Tree instance at 0x10e103b48>,\n",
       "  <__main__.Tree instance at 0x10e103b90>),\n",
       " (<__main__.Tree instance at 0x10e103ab8>,\n",
       "  <__main__.Tree instance at 0x10e103b48>),\n",
       " (<__main__.Tree instance at 0x10e103b00>,\n",
       "  <__main__.Tree instance at 0x10e103b48>)]"
      ]
     },
     "execution_count": 40,
     "metadata": {},
     "output_type": "execute_result"
    }
   ],
   "source": [
    "tree_parents_lookup = {}\n",
    "\n",
    "'''def convert_tree(tree, parents_table):\n",
    "    if tree.left is not None:\n",
    "        tree_parents_lookup[tree.left] = tree\n",
    "        convert_tree(tree.left)\n",
    "    if tree.right is not None:\n",
    "        tree_parents_lookup[tree.right] = tree\n",
    "        convert_tree(tree.right)\n",
    "        \n",
    "convert_tree(t, tree_parents_lookup)'''\n",
    "\n",
    "def convert_tree_functional(tree, parent):\n",
    "    if tree is not None:\n",
    "        return [(tree, parent)] + \\\n",
    "                convert_tree_functional(tree.left, tree) + \\\n",
    "                convert_tree_functional(tree.right, tree)\n",
    "    else: return []\n",
    "\n",
    "convert_tree_functional(t, None)"
   ]
  },
  {
   "cell_type": "code",
   "execution_count": 34,
   "metadata": {
    "collapsed": false
   },
   "outputs": [
    {
     "data": {
      "text/plain": [
       "{<__main__.Tree instance at 0x10e1035f0>: <__main__.Tree instance at 0x10e103a70>,\n",
       " <__main__.Tree instance at 0x10e103878>: <__main__.Tree instance at 0x10e103a70>,\n",
       " <__main__.Tree instance at 0x10e103a70>: <__main__.Tree instance at 0x10e103b90>,\n",
       " <__main__.Tree instance at 0x10e103ab8>: <__main__.Tree instance at 0x10e103b48>,\n",
       " <__main__.Tree instance at 0x10e103b00>: <__main__.Tree instance at 0x10e103b48>,\n",
       " <__main__.Tree instance at 0x10e103b48>: <__main__.Tree instance at 0x10e103b90>}"
      ]
     },
     "execution_count": 34,
     "metadata": {},
     "output_type": "execute_result"
    }
   ],
   "source": [
    "tree_parents_lookup"
   ]
  },
  {
   "cell_type": "code",
   "execution_count": null,
   "metadata": {
    "collapsed": true
   },
   "outputs": [],
   "source": []
  }
 ],
 "metadata": {
  "kernelspec": {
   "display_name": "Python 2",
   "language": "python",
   "name": "python2"
  },
  "language_info": {
   "codemirror_mode": {
    "name": "ipython",
    "version": 2
   },
   "file_extension": ".py",
   "mimetype": "text/x-python",
   "name": "python",
   "nbconvert_exporter": "python",
   "pygments_lexer": "ipython2",
   "version": "2.7.13"
  }
 },
 "nbformat": 4,
 "nbformat_minor": 0
}
